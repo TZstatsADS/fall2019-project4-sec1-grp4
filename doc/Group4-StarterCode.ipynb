{
 "cells": [
  {
   "cell_type": "code",
   "execution_count": 1,
   "metadata": {},
   "outputs": [],
   "source": [
    "import pandas as pd\n",
    "import numpy as np\n",
    "import matplotlib.pyplot as plt\n",
    "import seaborn as sns"
   ]
  },
  {
   "cell_type": "code",
   "execution_count": 2,
   "metadata": {},
   "outputs": [],
   "source": [
    "RANDOM_STATE = 13"
   ]
  },
  {
   "cell_type": "markdown",
   "metadata": {},
   "source": [
    "## Load Data"
   ]
  },
  {
   "cell_type": "code",
   "execution_count": 3,
   "metadata": {},
   "outputs": [],
   "source": [
    "data_df = pd.read_csv(\"../data/ml-latest-small/ratings.csv\")"
   ]
  },
  {
   "cell_type": "code",
   "execution_count": 4,
   "metadata": {},
   "outputs": [
    {
     "data": {
      "text/html": [
       "<div>\n",
       "<style scoped>\n",
       "    .dataframe tbody tr th:only-of-type {\n",
       "        vertical-align: middle;\n",
       "    }\n",
       "\n",
       "    .dataframe tbody tr th {\n",
       "        vertical-align: top;\n",
       "    }\n",
       "\n",
       "    .dataframe thead th {\n",
       "        text-align: right;\n",
       "    }\n",
       "</style>\n",
       "<table border=\"1\" class=\"dataframe\">\n",
       "  <thead>\n",
       "    <tr style=\"text-align: right;\">\n",
       "      <th></th>\n",
       "      <th>userId</th>\n",
       "      <th>movieId</th>\n",
       "      <th>rating</th>\n",
       "      <th>timestamp</th>\n",
       "    </tr>\n",
       "  </thead>\n",
       "  <tbody>\n",
       "    <tr>\n",
       "      <td>0</td>\n",
       "      <td>1</td>\n",
       "      <td>1</td>\n",
       "      <td>4.0</td>\n",
       "      <td>964982703</td>\n",
       "    </tr>\n",
       "    <tr>\n",
       "      <td>1</td>\n",
       "      <td>1</td>\n",
       "      <td>3</td>\n",
       "      <td>4.0</td>\n",
       "      <td>964981247</td>\n",
       "    </tr>\n",
       "    <tr>\n",
       "      <td>2</td>\n",
       "      <td>1</td>\n",
       "      <td>6</td>\n",
       "      <td>4.0</td>\n",
       "      <td>964982224</td>\n",
       "    </tr>\n",
       "    <tr>\n",
       "      <td>3</td>\n",
       "      <td>1</td>\n",
       "      <td>47</td>\n",
       "      <td>5.0</td>\n",
       "      <td>964983815</td>\n",
       "    </tr>\n",
       "    <tr>\n",
       "      <td>4</td>\n",
       "      <td>1</td>\n",
       "      <td>50</td>\n",
       "      <td>5.0</td>\n",
       "      <td>964982931</td>\n",
       "    </tr>\n",
       "  </tbody>\n",
       "</table>\n",
       "</div>"
      ],
      "text/plain": [
       "   userId  movieId  rating  timestamp\n",
       "0       1        1     4.0  964982703\n",
       "1       1        3     4.0  964981247\n",
       "2       1        6     4.0  964982224\n",
       "3       1       47     5.0  964983815\n",
       "4       1       50     5.0  964982931"
      ]
     },
     "execution_count": 4,
     "metadata": {},
     "output_type": "execute_result"
    }
   ],
   "source": [
    "data_df.head(5)"
   ]
  },
  {
   "cell_type": "code",
   "execution_count": 5,
   "metadata": {},
   "outputs": [
    {
     "data": {
      "text/html": [
       "<div>\n",
       "<style scoped>\n",
       "    .dataframe tbody tr th:only-of-type {\n",
       "        vertical-align: middle;\n",
       "    }\n",
       "\n",
       "    .dataframe tbody tr th {\n",
       "        vertical-align: top;\n",
       "    }\n",
       "\n",
       "    .dataframe thead th {\n",
       "        text-align: right;\n",
       "    }\n",
       "</style>\n",
       "<table border=\"1\" class=\"dataframe\">\n",
       "  <thead>\n",
       "    <tr style=\"text-align: right;\">\n",
       "      <th></th>\n",
       "      <th>userId</th>\n",
       "      <th>movieId</th>\n",
       "      <th>rating</th>\n",
       "      <th>timestamp</th>\n",
       "    </tr>\n",
       "  </thead>\n",
       "  <tbody>\n",
       "    <tr>\n",
       "      <td>count</td>\n",
       "      <td>100836.000000</td>\n",
       "      <td>100836.000000</td>\n",
       "      <td>100836.000000</td>\n",
       "      <td>1.008360e+05</td>\n",
       "    </tr>\n",
       "    <tr>\n",
       "      <td>mean</td>\n",
       "      <td>326.127564</td>\n",
       "      <td>19435.295718</td>\n",
       "      <td>3.501557</td>\n",
       "      <td>1.205946e+09</td>\n",
       "    </tr>\n",
       "    <tr>\n",
       "      <td>std</td>\n",
       "      <td>182.618491</td>\n",
       "      <td>35530.987199</td>\n",
       "      <td>1.042529</td>\n",
       "      <td>2.162610e+08</td>\n",
       "    </tr>\n",
       "    <tr>\n",
       "      <td>min</td>\n",
       "      <td>1.000000</td>\n",
       "      <td>1.000000</td>\n",
       "      <td>0.500000</td>\n",
       "      <td>8.281246e+08</td>\n",
       "    </tr>\n",
       "    <tr>\n",
       "      <td>25%</td>\n",
       "      <td>177.000000</td>\n",
       "      <td>1199.000000</td>\n",
       "      <td>3.000000</td>\n",
       "      <td>1.019124e+09</td>\n",
       "    </tr>\n",
       "    <tr>\n",
       "      <td>50%</td>\n",
       "      <td>325.000000</td>\n",
       "      <td>2991.000000</td>\n",
       "      <td>3.500000</td>\n",
       "      <td>1.186087e+09</td>\n",
       "    </tr>\n",
       "    <tr>\n",
       "      <td>75%</td>\n",
       "      <td>477.000000</td>\n",
       "      <td>8122.000000</td>\n",
       "      <td>4.000000</td>\n",
       "      <td>1.435994e+09</td>\n",
       "    </tr>\n",
       "    <tr>\n",
       "      <td>max</td>\n",
       "      <td>610.000000</td>\n",
       "      <td>193609.000000</td>\n",
       "      <td>5.000000</td>\n",
       "      <td>1.537799e+09</td>\n",
       "    </tr>\n",
       "  </tbody>\n",
       "</table>\n",
       "</div>"
      ],
      "text/plain": [
       "              userId        movieId         rating     timestamp\n",
       "count  100836.000000  100836.000000  100836.000000  1.008360e+05\n",
       "mean      326.127564   19435.295718       3.501557  1.205946e+09\n",
       "std       182.618491   35530.987199       1.042529  2.162610e+08\n",
       "min         1.000000       1.000000       0.500000  8.281246e+08\n",
       "25%       177.000000    1199.000000       3.000000  1.019124e+09\n",
       "50%       325.000000    2991.000000       3.500000  1.186087e+09\n",
       "75%       477.000000    8122.000000       4.000000  1.435994e+09\n",
       "max       610.000000  193609.000000       5.000000  1.537799e+09"
      ]
     },
     "execution_count": 5,
     "metadata": {},
     "output_type": "execute_result"
    }
   ],
   "source": [
    "data_df.describe()"
   ]
  },
  {
   "cell_type": "code",
   "execution_count": 6,
   "metadata": {},
   "outputs": [
    {
     "name": "stdout",
     "output_type": "stream",
     "text": [
      "<class 'pandas.core.frame.DataFrame'>\n",
      "RangeIndex: 100836 entries, 0 to 100835\n",
      "Data columns (total 4 columns):\n",
      "userId       100836 non-null int64\n",
      "movieId      100836 non-null int64\n",
      "rating       100836 non-null float64\n",
      "timestamp    100836 non-null int64\n",
      "dtypes: float64(1), int64(3)\n",
      "memory usage: 3.1 MB\n"
     ]
    }
   ],
   "source": [
    "data_df.info()"
   ]
  },
  {
   "cell_type": "markdown",
   "metadata": {},
   "source": [
    "## Split Training And Test Set"
   ]
  },
  {
   "cell_type": "code",
   "execution_count": 7,
   "metadata": {},
   "outputs": [
    {
     "name": "stdout",
     "output_type": "stream",
     "text": [
      "(80669, 4) (20167, 4)\n"
     ]
    }
   ],
   "source": [
    "test_df = data_df.sample(frac = 0.2, random_state=RANDOM_STATE)\n",
    "train_df = data_df.drop(test_df.index)\n",
    "print(train_df.shape, test_df.shape)"
   ]
  },
  {
   "cell_type": "code",
   "execution_count": 8,
   "metadata": {},
   "outputs": [
    {
     "data": {
      "text/html": [
       "<div>\n",
       "<style scoped>\n",
       "    .dataframe tbody tr th:only-of-type {\n",
       "        vertical-align: middle;\n",
       "    }\n",
       "\n",
       "    .dataframe tbody tr th {\n",
       "        vertical-align: top;\n",
       "    }\n",
       "\n",
       "    .dataframe thead th {\n",
       "        text-align: right;\n",
       "    }\n",
       "</style>\n",
       "<table border=\"1\" class=\"dataframe\">\n",
       "  <thead>\n",
       "    <tr style=\"text-align: right;\">\n",
       "      <th></th>\n",
       "      <th>userId</th>\n",
       "      <th>movieId</th>\n",
       "      <th>rating</th>\n",
       "      <th>timestamp</th>\n",
       "    </tr>\n",
       "  </thead>\n",
       "  <tbody>\n",
       "    <tr>\n",
       "      <td>48260</td>\n",
       "      <td>313</td>\n",
       "      <td>293</td>\n",
       "      <td>4.0</td>\n",
       "      <td>1030555572</td>\n",
       "    </tr>\n",
       "    <tr>\n",
       "      <td>80555</td>\n",
       "      <td>509</td>\n",
       "      <td>6888</td>\n",
       "      <td>2.5</td>\n",
       "      <td>1435994604</td>\n",
       "    </tr>\n",
       "    <tr>\n",
       "      <td>51069</td>\n",
       "      <td>330</td>\n",
       "      <td>1387</td>\n",
       "      <td>4.0</td>\n",
       "      <td>1285905302</td>\n",
       "    </tr>\n",
       "    <tr>\n",
       "      <td>83115</td>\n",
       "      <td>526</td>\n",
       "      <td>308</td>\n",
       "      <td>3.5</td>\n",
       "      <td>1502132664</td>\n",
       "    </tr>\n",
       "    <tr>\n",
       "      <td>49813</td>\n",
       "      <td>318</td>\n",
       "      <td>134214</td>\n",
       "      <td>4.0</td>\n",
       "      <td>1451995959</td>\n",
       "    </tr>\n",
       "  </tbody>\n",
       "</table>\n",
       "</div>"
      ],
      "text/plain": [
       "       userId  movieId  rating   timestamp\n",
       "48260     313      293     4.0  1030555572\n",
       "80555     509     6888     2.5  1435994604\n",
       "51069     330     1387     4.0  1285905302\n",
       "83115     526      308     3.5  1502132664\n",
       "49813     318   134214     4.0  1451995959"
      ]
     },
     "execution_count": 8,
     "metadata": {},
     "output_type": "execute_result"
    }
   ],
   "source": [
    "test_df.head(5)"
   ]
  },
  {
   "cell_type": "markdown",
   "metadata": {},
   "source": [
    "## Matrix Factorization\n",
    "### Algorithm and Regularization\n",
    "Here I perform stochastic gradien descent to do matrix factorization. Your algorithm should consider case that there are new users and movies adding to the dataset you used to train. In other words, the dimension your matrix R, q, p is dynamic.\n",
    "\n",
    "* For algorithms, the referenced paper are:\n",
    "\n",
    "    * A1. **Stochastic Gradient Descent Section(P1%20Recommender-Systems.pdf)**: Learning Algorithms-Stochastic Gradient Descent\n",
    "\n",
    "    * A2. Gradient Descent with Probabilistic Assumptions Section 2\n",
    "\n",
    "    * A3. Alternating Least Squares Section 3.1\n",
    "        * For regularizations, the referenced paper are:\n",
    "\n",
    "* Regularization\n",
    "    * R1. Penalty of Magnitudes Section: a Basic Matrix Factorization Model\n",
    "\n",
    "    * R2. Bias and Intercepts Section: Adding Biases\n",
    "\n",
    "    * R3. Temporal Dynamics Section 4\n",
    "    \n",
    "> Our Group(Sec1 Group4) only need to implement\n",
    "> 1. A1+R3+P2\n",
    "> 2. A1+R3+P3"
   ]
  },
  {
   "cell_type": "code",
   "execution_count": 9,
   "metadata": {},
   "outputs": [],
   "source": [
    "from sklearn.metrics import mean_squared_error\n",
    "from math import sqrt\n",
    "\n",
    "def single_error(target_row, predicted_df):\n",
    "    \"\"\"\n",
    "    Calculate the squared error for a specifc rating, compared with the prediction\n",
    "    This function is used by 'apply' method, don't call it yourself\n",
    "    \n",
    "    \"\"\"\n",
    "    userId = int(target_row['userId'])\n",
    "    movieId = int(target_row['movieId'])\n",
    "    return (target_row['rating'] - predicted_df.loc[userId, movieId]) **2\n",
    "\n",
    "\n",
    "def stochasticGD(data, train, test, max_iter, f_dim = 10, learning_rate = 0.001, \n",
    "                 regularization = 0.3, stopping_threshold = 0.001, random_state = RANDOM_STATE):\n",
    "    \"\"\"\n",
    "    :param data: the overall data, which is needed to record all movie id and user id\n",
    "    :param train: training dataset in pd.DataFrame\n",
    "    :param test: test dataset in pd.DataFrame\n",
    "    :param max_ter: number of gradient descent iteration\n",
    "    :param f_dim: dimension for the SVD decomposition\n",
    "    :param learning_rate: gradient descent learning rate\n",
    "    :param regularization: regularization factor\n",
    "    :param stopping_threshold: the upper bound to not update vector. If the calculated gradient is larger than this,\n",
    "        the corresponding vector will not be updated.\n",
    "    \n",
    "    :return:\n",
    "    \"\"\"\n",
    "    # set random state\n",
    "    users = data['userId'].unique()\n",
    "    movies = data['movieId'].unique()\n",
    "    \n",
    "    # create factorized matrix\n",
    "    np.random.seed(random_state)\n",
    "    # intialize to rand(-1,1)\n",
    "    users_df = pd.DataFrame(np.random.rand(len(users), f_dim) * 2 - 1, index=users)\n",
    "    movies_df = pd.DataFrame(np.random.rand(len(movies),f_dim) * 2 - 1, index=movies)\n",
    "    \n",
    "    # record training RMSE\n",
    "    train_rmse = []\n",
    "    test_rmse = []\n",
    "    \n",
    "    # stochastic gradient descent\n",
    "    for iteration in range(max_iter):\n",
    "        # shuffle the index for this stochastic iteration\n",
    "        sample_indices = np.array(train_df.index)\n",
    "        np.random.shuffle(sample_indices)\n",
    "        \n",
    "        for sample_i in sample_indices:\n",
    "            sample = train_df.loc[sample_i,:]\n",
    "            # calculate loss\n",
    "            r_ui = sample['rating']\n",
    "            user = users_df.loc[int(sample['userId']), :].copy()\n",
    "            movie = movies_df.loc[int(sample['movieId']), :].copy()\n",
    "            e_ui = r_ui - np.dot( user, movie)    \n",
    "            # update vector\n",
    "            gradient_movie = e_ui * user - regularization * movie\n",
    "            if np.any(np.abs(gradient_movie) > stopping_threshold):\n",
    "                movies_df.loc[int(sample['movieId']), :] = movie + learning_rate * gradient_movie\n",
    "\n",
    "            gradient_user = e_ui * movie - regularization  * user\n",
    "            if np.any(np.abs(gradient_user) > stopping_threshold):\n",
    "                users_df.loc[int(sample['userId']), :] = user + learning_rate * gradient_user\n",
    "        \n",
    "        # make prediction. shape is (users * movies)\n",
    "        predicted_df = pd.DataFrame(np.dot(users_df, movies_df.T), columns= movies_df.index, index = users_df.index)\n",
    "\n",
    "        # calculating rmse\n",
    "        if iteration % 10 == 0:\n",
    "            train_single_rmse = np.sqrt(np.mean(train.apply(single_error, axis = 1, predicted_df = predicted_df)))\n",
    "            train_rmse.append(train_single_rmse)\n",
    "            test_single_rmse = np.sqrt(np.mean(test.apply(single_error, axis = 1, predicted_df = predicted_df)))\n",
    "            test_rmse.append(test_single_rmse)\n",
    "            print(f\"Epoch: {iteration}\")\n",
    "            print(f\"Training RMSE: {train_single_rmse}\\t Test RMSE: {test_single_rmse}\",)\n",
    "            \n",
    "    return users_df, movies_df, train_rmse, test_rmse"
   ]
  },
  {
   "cell_type": "code",
   "execution_count": 10,
   "metadata": {},
   "outputs": [
    {
     "name": "stdout",
     "output_type": "stream",
     "text": [
      "Epoch: 0\n",
      "Training RMSE: 3.7232815485207023\t Test RMSE: 3.741565397631318\n"
     ]
    }
   ],
   "source": [
    "users_df, movies_df, train_rmse, test_rmse = stochasticGD(data_df, train_df, test_df, 1)"
   ]
  },
  {
   "cell_type": "code",
   "execution_count": 11,
   "metadata": {},
   "outputs": [
    {
     "data": {
      "text/html": [
       "<div>\n",
       "<style scoped>\n",
       "    .dataframe tbody tr th:only-of-type {\n",
       "        vertical-align: middle;\n",
       "    }\n",
       "\n",
       "    .dataframe tbody tr th {\n",
       "        vertical-align: top;\n",
       "    }\n",
       "\n",
       "    .dataframe thead th {\n",
       "        text-align: right;\n",
       "    }\n",
       "</style>\n",
       "<table border=\"1\" class=\"dataframe\">\n",
       "  <thead>\n",
       "    <tr style=\"text-align: right;\">\n",
       "      <th></th>\n",
       "      <th>1</th>\n",
       "      <th>3</th>\n",
       "      <th>6</th>\n",
       "      <th>47</th>\n",
       "      <th>50</th>\n",
       "      <th>70</th>\n",
       "      <th>101</th>\n",
       "      <th>110</th>\n",
       "      <th>151</th>\n",
       "      <th>157</th>\n",
       "      <th>...</th>\n",
       "      <th>147662</th>\n",
       "      <th>148166</th>\n",
       "      <th>149011</th>\n",
       "      <th>152372</th>\n",
       "      <th>158721</th>\n",
       "      <th>160341</th>\n",
       "      <th>160527</th>\n",
       "      <th>160836</th>\n",
       "      <th>163937</th>\n",
       "      <th>163981</th>\n",
       "    </tr>\n",
       "  </thead>\n",
       "  <tbody>\n",
       "    <tr>\n",
       "      <td>1</td>\n",
       "      <td>0.420647</td>\n",
       "      <td>0.666458</td>\n",
       "      <td>-0.572329</td>\n",
       "      <td>-0.042071</td>\n",
       "      <td>1.906138</td>\n",
       "      <td>-0.078009</td>\n",
       "      <td>-0.821778</td>\n",
       "      <td>0.009163</td>\n",
       "      <td>0.991631</td>\n",
       "      <td>-1.415281</td>\n",
       "      <td>...</td>\n",
       "      <td>0.308248</td>\n",
       "      <td>-0.630935</td>\n",
       "      <td>-0.480102</td>\n",
       "      <td>-0.530810</td>\n",
       "      <td>0.170600</td>\n",
       "      <td>0.591710</td>\n",
       "      <td>0.668683</td>\n",
       "      <td>-0.499309</td>\n",
       "      <td>1.045802</td>\n",
       "      <td>-1.666364</td>\n",
       "    </tr>\n",
       "    <tr>\n",
       "      <td>2</td>\n",
       "      <td>-1.729266</td>\n",
       "      <td>-1.348801</td>\n",
       "      <td>-0.545158</td>\n",
       "      <td>0.065139</td>\n",
       "      <td>-1.013823</td>\n",
       "      <td>0.291876</td>\n",
       "      <td>1.967949</td>\n",
       "      <td>0.256932</td>\n",
       "      <td>0.872188</td>\n",
       "      <td>0.668263</td>\n",
       "      <td>...</td>\n",
       "      <td>0.433660</td>\n",
       "      <td>0.863355</td>\n",
       "      <td>0.924489</td>\n",
       "      <td>0.157198</td>\n",
       "      <td>-1.705613</td>\n",
       "      <td>-1.557026</td>\n",
       "      <td>0.896567</td>\n",
       "      <td>0.002667</td>\n",
       "      <td>-0.349469</td>\n",
       "      <td>0.563209</td>\n",
       "    </tr>\n",
       "    <tr>\n",
       "      <td>3</td>\n",
       "      <td>0.436003</td>\n",
       "      <td>-0.308128</td>\n",
       "      <td>-1.622448</td>\n",
       "      <td>0.402658</td>\n",
       "      <td>0.223470</td>\n",
       "      <td>2.055105</td>\n",
       "      <td>1.151883</td>\n",
       "      <td>-1.357072</td>\n",
       "      <td>-0.125645</td>\n",
       "      <td>-1.424658</td>\n",
       "      <td>...</td>\n",
       "      <td>1.716859</td>\n",
       "      <td>-0.362625</td>\n",
       "      <td>0.150071</td>\n",
       "      <td>-1.955613</td>\n",
       "      <td>1.567590</td>\n",
       "      <td>0.824677</td>\n",
       "      <td>0.114928</td>\n",
       "      <td>-0.647488</td>\n",
       "      <td>3.061716</td>\n",
       "      <td>-0.431924</td>\n",
       "    </tr>\n",
       "    <tr>\n",
       "      <td>4</td>\n",
       "      <td>0.613158</td>\n",
       "      <td>0.426844</td>\n",
       "      <td>1.082139</td>\n",
       "      <td>0.422054</td>\n",
       "      <td>0.291269</td>\n",
       "      <td>-0.197889</td>\n",
       "      <td>-0.220295</td>\n",
       "      <td>-0.452328</td>\n",
       "      <td>-0.851370</td>\n",
       "      <td>1.195279</td>\n",
       "      <td>...</td>\n",
       "      <td>-0.428659</td>\n",
       "      <td>1.655227</td>\n",
       "      <td>0.803953</td>\n",
       "      <td>-0.991743</td>\n",
       "      <td>-0.393152</td>\n",
       "      <td>0.720676</td>\n",
       "      <td>0.087631</td>\n",
       "      <td>-1.385409</td>\n",
       "      <td>-0.944979</td>\n",
       "      <td>0.282721</td>\n",
       "    </tr>\n",
       "    <tr>\n",
       "      <td>5</td>\n",
       "      <td>-0.387320</td>\n",
       "      <td>-0.603773</td>\n",
       "      <td>0.037303</td>\n",
       "      <td>-0.360848</td>\n",
       "      <td>0.412845</td>\n",
       "      <td>-1.841770</td>\n",
       "      <td>0.122034</td>\n",
       "      <td>0.912422</td>\n",
       "      <td>-0.426932</td>\n",
       "      <td>-0.563312</td>\n",
       "      <td>...</td>\n",
       "      <td>-0.522372</td>\n",
       "      <td>-1.220036</td>\n",
       "      <td>0.251329</td>\n",
       "      <td>0.826388</td>\n",
       "      <td>0.566947</td>\n",
       "      <td>-0.454132</td>\n",
       "      <td>-0.331613</td>\n",
       "      <td>0.131828</td>\n",
       "      <td>0.057954</td>\n",
       "      <td>0.318165</td>\n",
       "    </tr>\n",
       "  </tbody>\n",
       "</table>\n",
       "<p>5 rows × 9724 columns</p>\n",
       "</div>"
      ],
      "text/plain": [
       "     1         3         6         47        50        70        101     \\\n",
       "1  0.420647  0.666458 -0.572329 -0.042071  1.906138 -0.078009 -0.821778   \n",
       "2 -1.729266 -1.348801 -0.545158  0.065139 -1.013823  0.291876  1.967949   \n",
       "3  0.436003 -0.308128 -1.622448  0.402658  0.223470  2.055105  1.151883   \n",
       "4  0.613158  0.426844  1.082139  0.422054  0.291269 -0.197889 -0.220295   \n",
       "5 -0.387320 -0.603773  0.037303 -0.360848  0.412845 -1.841770  0.122034   \n",
       "\n",
       "     110       151       157     ...    147662    148166    149011    152372  \\\n",
       "1  0.009163  0.991631 -1.415281  ...  0.308248 -0.630935 -0.480102 -0.530810   \n",
       "2  0.256932  0.872188  0.668263  ...  0.433660  0.863355  0.924489  0.157198   \n",
       "3 -1.357072 -0.125645 -1.424658  ...  1.716859 -0.362625  0.150071 -1.955613   \n",
       "4 -0.452328 -0.851370  1.195279  ... -0.428659  1.655227  0.803953 -0.991743   \n",
       "5  0.912422 -0.426932 -0.563312  ... -0.522372 -1.220036  0.251329  0.826388   \n",
       "\n",
       "     158721    160341    160527    160836    163937    163981  \n",
       "1  0.170600  0.591710  0.668683 -0.499309  1.045802 -1.666364  \n",
       "2 -1.705613 -1.557026  0.896567  0.002667 -0.349469  0.563209  \n",
       "3  1.567590  0.824677  0.114928 -0.647488  3.061716 -0.431924  \n",
       "4 -0.393152  0.720676  0.087631 -1.385409 -0.944979  0.282721  \n",
       "5  0.566947 -0.454132 -0.331613  0.131828  0.057954  0.318165  \n",
       "\n",
       "[5 rows x 9724 columns]"
      ]
     },
     "execution_count": 11,
     "metadata": {},
     "output_type": "execute_result"
    }
   ],
   "source": [
    "predicted_df = pd.DataFrame(np.dot(users_df, movies_df.T), columns= movies_df.index, index = users_df.index)\n",
    "predicted_df.head(5)"
   ]
  },
  {
   "cell_type": "markdown",
   "metadata": {},
   "source": [
    "# Regularization"
   ]
  },
  {
   "cell_type": "code",
   "execution_count": 3,
   "metadata": {},
   "outputs": [],
   "source": [
    "# calling data\n",
    "ratings = pd.read_csv(\"../data/ml-latest-small/ratings.csv\")\n",
    "movies = pd.read_csv(\"../data/ml-latest-small/movies.csv\")\n",
    "tags = pd.read_csv(\"../data/ml-latest-small/tags.csv\")\n",
    "links = pd.read_csv(\"../data/ml-latest-small/links.csv\")"
   ]
  },
  {
   "cell_type": "code",
   "execution_count": 9,
   "metadata": {},
   "outputs": [
    {
     "data": {
      "text/html": [
       "<div>\n",
       "<style scoped>\n",
       "    .dataframe tbody tr th:only-of-type {\n",
       "        vertical-align: middle;\n",
       "    }\n",
       "\n",
       "    .dataframe tbody tr th {\n",
       "        vertical-align: top;\n",
       "    }\n",
       "\n",
       "    .dataframe thead th {\n",
       "        text-align: right;\n",
       "    }\n",
       "</style>\n",
       "<table border=\"1\" class=\"dataframe\">\n",
       "  <thead>\n",
       "    <tr style=\"text-align: right;\">\n",
       "      <th></th>\n",
       "      <th>movieId</th>\n",
       "      <th>title</th>\n",
       "      <th>genres</th>\n",
       "    </tr>\n",
       "  </thead>\n",
       "  <tbody>\n",
       "    <tr>\n",
       "      <td>0</td>\n",
       "      <td>1</td>\n",
       "      <td>Toy Story (1995)</td>\n",
       "      <td>Adventure|Animation|Children|Comedy|Fantasy</td>\n",
       "    </tr>\n",
       "    <tr>\n",
       "      <td>1</td>\n",
       "      <td>2</td>\n",
       "      <td>Jumanji (1995)</td>\n",
       "      <td>Adventure|Children|Fantasy</td>\n",
       "    </tr>\n",
       "    <tr>\n",
       "      <td>2</td>\n",
       "      <td>3</td>\n",
       "      <td>Grumpier Old Men (1995)</td>\n",
       "      <td>Comedy|Romance</td>\n",
       "    </tr>\n",
       "    <tr>\n",
       "      <td>3</td>\n",
       "      <td>4</td>\n",
       "      <td>Waiting to Exhale (1995)</td>\n",
       "      <td>Comedy|Drama|Romance</td>\n",
       "    </tr>\n",
       "    <tr>\n",
       "      <td>4</td>\n",
       "      <td>5</td>\n",
       "      <td>Father of the Bride Part II (1995)</td>\n",
       "      <td>Comedy</td>\n",
       "    </tr>\n",
       "  </tbody>\n",
       "</table>\n",
       "</div>"
      ],
      "text/plain": [
       "   movieId                               title  \\\n",
       "0        1                    Toy Story (1995)   \n",
       "1        2                      Jumanji (1995)   \n",
       "2        3             Grumpier Old Men (1995)   \n",
       "3        4            Waiting to Exhale (1995)   \n",
       "4        5  Father of the Bride Part II (1995)   \n",
       "\n",
       "                                        genres  \n",
       "0  Adventure|Animation|Children|Comedy|Fantasy  \n",
       "1                   Adventure|Children|Fantasy  \n",
       "2                               Comedy|Romance  \n",
       "3                         Comedy|Drama|Romance  \n",
       "4                                       Comedy  "
      ]
     },
     "execution_count": 9,
     "metadata": {},
     "output_type": "execute_result"
    }
   ],
   "source": [
    "ratings.head()\n",
    "movies.head()"
   ]
  },
  {
   "cell_type": "code",
   "execution_count": 7,
   "metadata": {},
   "outputs": [
    {
     "data": {
      "text/html": [
       "<div>\n",
       "<style scoped>\n",
       "    .dataframe tbody tr th:only-of-type {\n",
       "        vertical-align: middle;\n",
       "    }\n",
       "\n",
       "    .dataframe tbody tr th {\n",
       "        vertical-align: top;\n",
       "    }\n",
       "\n",
       "    .dataframe thead th {\n",
       "        text-align: right;\n",
       "    }\n",
       "</style>\n",
       "<table border=\"1\" class=\"dataframe\">\n",
       "  <thead>\n",
       "    <tr style=\"text-align: right;\">\n",
       "      <th></th>\n",
       "      <th>userId</th>\n",
       "      <th>movieId</th>\n",
       "      <th>rating</th>\n",
       "      <th>timestamp</th>\n",
       "      <th>title</th>\n",
       "      <th>genres</th>\n",
       "    </tr>\n",
       "  </thead>\n",
       "  <tbody>\n",
       "    <tr>\n",
       "      <td>0</td>\n",
       "      <td>1</td>\n",
       "      <td>1</td>\n",
       "      <td>4.0</td>\n",
       "      <td>964982703</td>\n",
       "      <td>Toy Story (1995)</td>\n",
       "      <td>Adventure|Animation|Children|Comedy|Fantasy</td>\n",
       "    </tr>\n",
       "    <tr>\n",
       "      <td>1</td>\n",
       "      <td>5</td>\n",
       "      <td>1</td>\n",
       "      <td>4.0</td>\n",
       "      <td>847434962</td>\n",
       "      <td>Toy Story (1995)</td>\n",
       "      <td>Adventure|Animation|Children|Comedy|Fantasy</td>\n",
       "    </tr>\n",
       "    <tr>\n",
       "      <td>2</td>\n",
       "      <td>7</td>\n",
       "      <td>1</td>\n",
       "      <td>4.5</td>\n",
       "      <td>1106635946</td>\n",
       "      <td>Toy Story (1995)</td>\n",
       "      <td>Adventure|Animation|Children|Comedy|Fantasy</td>\n",
       "    </tr>\n",
       "    <tr>\n",
       "      <td>3</td>\n",
       "      <td>15</td>\n",
       "      <td>1</td>\n",
       "      <td>2.5</td>\n",
       "      <td>1510577970</td>\n",
       "      <td>Toy Story (1995)</td>\n",
       "      <td>Adventure|Animation|Children|Comedy|Fantasy</td>\n",
       "    </tr>\n",
       "    <tr>\n",
       "      <td>4</td>\n",
       "      <td>17</td>\n",
       "      <td>1</td>\n",
       "      <td>4.5</td>\n",
       "      <td>1305696483</td>\n",
       "      <td>Toy Story (1995)</td>\n",
       "      <td>Adventure|Animation|Children|Comedy|Fantasy</td>\n",
       "    </tr>\n",
       "  </tbody>\n",
       "</table>\n",
       "</div>"
      ],
      "text/plain": [
       "   userId  movieId  rating   timestamp             title  \\\n",
       "0       1        1     4.0   964982703  Toy Story (1995)   \n",
       "1       5        1     4.0   847434962  Toy Story (1995)   \n",
       "2       7        1     4.5  1106635946  Toy Story (1995)   \n",
       "3      15        1     2.5  1510577970  Toy Story (1995)   \n",
       "4      17        1     4.5  1305696483  Toy Story (1995)   \n",
       "\n",
       "                                        genres  \n",
       "0  Adventure|Animation|Children|Comedy|Fantasy  \n",
       "1  Adventure|Animation|Children|Comedy|Fantasy  \n",
       "2  Adventure|Animation|Children|Comedy|Fantasy  \n",
       "3  Adventure|Animation|Children|Comedy|Fantasy  \n",
       "4  Adventure|Animation|Children|Comedy|Fantasy  "
      ]
     },
     "execution_count": 7,
     "metadata": {},
     "output_type": "execute_result"
    }
   ],
   "source": [
    "test = pd.merge(ratings, movies)\n",
    "test.head()"
   ]
  },
  {
   "cell_type": "code",
   "execution_count": 30,
   "metadata": {},
   "outputs": [],
   "source": [
    "# Basic Equation\n",
    "# rui = mu + bi + bu + qi^T * pu\n",
    "mu = ratings['rating'].mean()\n",
    "mu\n",
    "\n",
    "##bi\n",
    "avg_rating_by_movie = ratings.groupby('movieId').mean() #average rating by each users\n",
    "overall_movie_rating = avg_rating_by_movie['rating'].mean()\n",
    "# if movieId = 10\n",
    "each_movie_rating = ratings.loc[ratings['movieId'] == 10, ['rating']].mean() #average rating for specific movie\n",
    "bi = each_movie_rating - overall_movie_rating #deviance from average\n",
    "\n",
    "##bu\n",
    "avg_rating_by_user = ratings.groupby('userId').mean() #average rating by each users\n",
    "overall_user_rating = avg_rating_by_user['rating'].mean()\n",
    "# if userId = 10\n",
    "each_user_rating = ratings.loc[ratings['userId'] == 10, ['rating']].mean() #average rating for specific user\n",
    "bu = each_user_rating - overall_user_rating #deviance from average\n",
    "\n",
    "## dont know about qi^T, pu(t)\n",
    "rui = mu + bi + bu"
   ]
  },
  {
   "cell_type": "markdown",
   "metadata": {},
   "source": [
    "## Implementing time"
   ]
  },
  {
   "cell_type": "code",
   "execution_count": 147,
   "metadata": {},
   "outputs": [],
   "source": [
    "# Timestamps represent seconds since midnight Coordinated Universal Time (UTC) of January 1, 1970.\n",
    "# rui = mu + bi(t) + bu(t) + qi^T * pu(t)\n",
    "\n",
    "binsize = 50 #50 years of data\n",
    "#use distinct item bias based on bins\n",
    "#100836/50 = 2016.72 rows per bin, so just use 2017 per bins\n",
    "time_ratings = ratings.sort_values(by='timestamp', ascending=False) # sorting data by timestamp\n",
    "time_ratings = pd.DataFrame(time_ratings)\n",
    "bins = [0] * 50 # list of 50 bins\n",
    "bins[0] = ratings.loc[0:2016,]\n",
    "for i in range(1,48):\n",
    "    bins[i] = ratings.loc[i*2017:2016+2017*i,]\n",
    "bins[49] = ratings.loc[98833:,]\n",
    "\n",
    "#average ratings for each bins\n",
    "avg_bin_ratings = [0] * 50\n",
    "#for i in range(0,49):\n",
    "#    avg_bin_ratings[i] = bins[i]['rating'].mean()\n",
    "\n",
    "#bit = bi \n"
   ]
  },
  {
   "cell_type": "code",
   "execution_count": 154,
   "metadata": {},
   "outputs": [
    {
     "data": {
      "text/plain": [
       "3.6544372830937033"
      ]
     },
     "execution_count": 154,
     "metadata": {},
     "output_type": "execute_result"
    }
   ],
   "source": [
    "bins[0]['rating'].mean()"
   ]
  },
  {
   "cell_type": "code",
   "execution_count": 159,
   "metadata": {},
   "outputs": [
    {
     "ename": "TypeError",
     "evalue": "'int' object is not subscriptable",
     "output_type": "error",
     "traceback": [
      "\u001b[0;31m---------------------------------------------------------------------------\u001b[0m",
      "\u001b[0;31mTypeError\u001b[0m                                 Traceback (most recent call last)",
      "\u001b[0;32m<ipython-input-159-b7e897850d20>\u001b[0m in \u001b[0;36m<module>\u001b[0;34m\u001b[0m\n\u001b[1;32m      1\u001b[0m \u001b[0mavg_bin_ratings\u001b[0m \u001b[0;34m=\u001b[0m \u001b[0;34m[\u001b[0m\u001b[0;36m0\u001b[0m\u001b[0;34m]\u001b[0m \u001b[0;34m*\u001b[0m \u001b[0;36m50\u001b[0m\u001b[0;34m\u001b[0m\u001b[0;34m\u001b[0m\u001b[0m\n\u001b[1;32m      2\u001b[0m \u001b[0;32mfor\u001b[0m \u001b[0mj\u001b[0m \u001b[0;32min\u001b[0m \u001b[0mrange\u001b[0m\u001b[0;34m(\u001b[0m\u001b[0;36m0\u001b[0m\u001b[0;34m,\u001b[0m\u001b[0;36m49\u001b[0m\u001b[0;34m)\u001b[0m\u001b[0;34m:\u001b[0m\u001b[0;34m\u001b[0m\u001b[0;34m\u001b[0m\u001b[0m\n\u001b[0;32m----> 3\u001b[0;31m     \u001b[0mavg_bin_ratings\u001b[0m\u001b[0;34m[\u001b[0m\u001b[0mint\u001b[0m\u001b[0;34m(\u001b[0m\u001b[0mj\u001b[0m\u001b[0;34m)\u001b[0m\u001b[0;34m]\u001b[0m \u001b[0;34m=\u001b[0m \u001b[0mbins\u001b[0m\u001b[0;34m[\u001b[0m\u001b[0mint\u001b[0m\u001b[0;34m(\u001b[0m\u001b[0mj\u001b[0m\u001b[0;34m)\u001b[0m\u001b[0;34m]\u001b[0m\u001b[0;34m[\u001b[0m\u001b[0;34m'rating'\u001b[0m\u001b[0;34m]\u001b[0m\u001b[0;34m.\u001b[0m\u001b[0mmean\u001b[0m\u001b[0;34m(\u001b[0m\u001b[0;34m)\u001b[0m\u001b[0;34m\u001b[0m\u001b[0;34m\u001b[0m\u001b[0m\n\u001b[0m\u001b[1;32m      4\u001b[0m \u001b[0mavg_bin_ratings\u001b[0m\u001b[0;34m\u001b[0m\u001b[0;34m\u001b[0m\u001b[0m\n",
      "\u001b[0;31mTypeError\u001b[0m: 'int' object is not subscriptable"
     ]
    }
   ],
   "source": [
    "avg_bin_ratings = [0] * 50\n",
    "for j in range(0,49):\n",
    "    avg_bin_ratings[j] = bins[j]['rating'].mean()\n",
    "avg_bin_ratings"
   ]
  },
  {
   "cell_type": "code",
   "execution_count": 129,
   "metadata": {},
   "outputs": [
    {
     "data": {
      "text/plain": [
       "userId         int64\n",
       "movieId        int64\n",
       "rating       float64\n",
       "timestamp      int64\n",
       "dtype: object"
      ]
     },
     "execution_count": 129,
     "metadata": {},
     "output_type": "execute_result"
    }
   ],
   "source": [
    "# normalize timestamp data?\n",
    "ratings.shape\n",
    "ratings.dtypes"
   ]
  },
  {
   "cell_type": "code",
   "execution_count": 130,
   "metadata": {},
   "outputs": [
    {
     "data": {
      "text/plain": [
       "userId         int64\n",
       "movieId        int64\n",
       "rating       float64\n",
       "timestamp      int64\n",
       "dtype: object"
      ]
     },
     "execution_count": 130,
     "metadata": {},
     "output_type": "execute_result"
    }
   ],
   "source": [
    "time_ratings.shape\n",
    "time_ratings.dtypes"
   ]
  },
  {
   "cell_type": "code",
   "execution_count": 61,
   "metadata": {},
   "outputs": [
    {
     "data": {
      "text/plain": [
       "709674635"
      ]
     },
     "execution_count": 61,
     "metadata": {},
     "output_type": "execute_result"
    }
   ],
   "source": [
    "ratings['timestamp'].max() - ratings['timestamp'].min()"
   ]
  },
  {
   "cell_type": "code",
   "execution_count": 64,
   "metadata": {},
   "outputs": [
    {
     "data": {
      "text/plain": [
       "100836"
      ]
     },
     "execution_count": 64,
     "metadata": {},
     "output_type": "execute_result"
    }
   ],
   "source": [
    "ratings['timestamp'].count() #100836 rows for 50 years"
   ]
  },
  {
   "cell_type": "code",
   "execution_count": 65,
   "metadata": {},
   "outputs": [
    {
     "data": {
      "text/plain": [
       "2016.72"
      ]
     },
     "execution_count": 65,
     "metadata": {},
     "output_type": "execute_result"
    }
   ],
   "source": [
    "100836/50"
   ]
  },
  {
   "cell_type": "code",
   "execution_count": 69,
   "metadata": {},
   "outputs": [
    {
     "name": "stdout",
     "output_type": "stream",
     "text": [
      "range(0, 50)\n"
     ]
    }
   ],
   "source": []
  },
  {
   "cell_type": "code",
   "execution_count": null,
   "metadata": {},
   "outputs": [],
   "source": []
  }
 ],
 "metadata": {
  "kernelspec": {
   "display_name": "Python 3",
   "language": "python",
   "name": "python3"
  },
  "language_info": {
   "codemirror_mode": {
    "name": "ipython",
    "version": 3
   },
   "file_extension": ".py",
   "mimetype": "text/x-python",
   "name": "python",
   "nbconvert_exporter": "python",
   "pygments_lexer": "ipython3",
   "version": "3.7.4"
  }
 },
 "nbformat": 4,
 "nbformat_minor": 2
}
